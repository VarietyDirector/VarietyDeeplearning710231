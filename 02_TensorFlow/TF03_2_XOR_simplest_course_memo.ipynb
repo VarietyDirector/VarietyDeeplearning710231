{
 "cells": [
  {
   "cell_type": "markdown",
   "metadata": {},
   "source": [
    "### 중요  : XOR 학습하기 "
   ]
  },
  {
   "cell_type": "code",
   "execution_count": 1,
   "metadata": {
    "colab": {
     "autoexec": {
      "startup": false,
      "wait_interval": 0
     }
    },
    "colab_type": "code",
    "id": "0jmvhundCJDz"
   },
   "outputs": [],
   "source": [
    "import tensorflow as tf\n",
    "import numpy as np\n",
    "import matplotlib.pyplot as plt"
   ]
  },
  {
   "cell_type": "code",
   "execution_count": 2,
   "metadata": {
    "colab": {
     "autoexec": {
      "startup": false,
      "wait_interval": 0
     }
    },
    "colab_type": "code",
    "id": "WzW0FN3dCTzh"
   },
   "outputs": [],
   "source": [
    "tf.set_random_seed(777)  # for reproducibility 랜덤효과가 똑같이 나온다?\n",
    "learning_rate = 0.1"
   ]
  },
  {
   "cell_type": "code",
   "execution_count": 4,
   "metadata": {
    "colab": {
     "autoexec": {
      "startup": false,
      "wait_interval": 0
     }
    },
    "colab_type": "code",
    "id": "TRFa_R0NCU9O"
   },
   "outputs": [],
   "source": [
    "x_data = [[0, 0],\n",
    "          [0, 1],\n",
    "          [1, 0],\n",
    "          [1, 1]]\n",
    "\n",
    "y_data = [[0],\n",
    "          [1],\n",
    "          [1],\n",
    "          [0]]"
   ]
  },
  {
   "cell_type": "code",
   "execution_count": 5,
   "metadata": {
    "colab": {
     "autoexec": {
      "startup": false,
      "wait_interval": 0
     }
    },
    "colab_type": "code",
    "id": "wryD8a17CXjl"
   },
   "outputs": [],
   "source": [
    "x_data = np.array(x_data, dtype=np.float32) #numpy형태로 바꿔주마\n",
    "y_data = np.array(y_data, dtype=np.float32)"
   ]
  },
  {
   "cell_type": "code",
   "execution_count": 7,
   "metadata": {
    "colab": {
     "autoexec": {
      "startup": false,
      "wait_interval": 0
     }
    },
    "colab_type": "code",
    "id": "cCl1Oc1wCZuH"
   },
   "outputs": [],
   "source": [
    "X = tf.placeholder(tf.float32, [None, 2]) #X는 0,1 1,0 0,0 1,1 ?\n",
    "Y = tf.placeholder(tf.float32, [None, 1]) #Y는 0or1\n",
    "\n",
    "W1 = tf.Variable(tf.random_normal([2, 2]), name='weight1') #random_normal\n",
    "b1 = tf.Variable(tf.random_normal([2]), name='bias1')\n",
    "layer1 = tf.sigmoid(tf.matmul(X, W1) + b1) #mat은 행렬, X*W1 + b1 \n",
    "#W1, b1이 추가가 됨으로써... 달라짐?\n",
    "\n",
    "W2 = tf.Variable(tf.random_normal([2, 1]), name='weight2')\n",
    "b2 = tf.Variable(tf.random_normal([1]), name='bias2')\n",
    "hypothesis = tf.sigmoid(tf.matmul(layer1, W2) + b2) #결과가 가설\n",
    "#W1, b1이 없고 얘네만 있으면 기존과 다를게 없음"
   ]
  },
  {
   "cell_type": "code",
   "execution_count": 8,
   "metadata": {
    "colab": {
     "autoexec": {
      "startup": false,
      "wait_interval": 0
     }
    },
    "colab_type": "code",
    "id": "NaCrzRooCaqo"
   },
   "outputs": [],
   "source": [
    "cost = tf.reduce_mean(tf.square(hypothesis - Y)) #가설과 진짜 Y값을 비교 (square은 제곱인데 이는 -값을 없애기 위함)\n",
    "train = tf.train.GradientDescentOptimizer(learning_rate=learning_rate).minimize(cost) #tensorflow는 train부터 시작, 위로 올라가는 것."
   ]
  },
  {
   "cell_type": "code",
   "execution_count": 9,
   "metadata": {},
   "outputs": [],
   "source": [
    "# Launch graph\n",
    "sess = tf.Session()"
   ]
  },
  {
   "cell_type": "code",
   "execution_count": 10,
   "metadata": {
    "colab": {
     "autoexec": {
      "startup": false,
      "wait_interval": 0
     },
     "base_uri": "https://localhost:8080/",
     "height": 287
    },
    "colab_type": "code",
    "executionInfo": {
     "elapsed": 3918,
     "status": "ok",
     "timestamp": 1525066741755,
     "user": {
      "displayName": "Seung-Chan Kim",
      "photoUrl": "//lh6.googleusercontent.com/-GfSlgMh8OAM/AAAAAAAAAAI/AAAAAAAAAU8/pF51x30wES8/s50-c-k-no/photo.jpg",
      "userId": "103475295474044689411"
     },
     "user_tz": -540
    },
    "id": "0ZX4wgM6Cjlc",
    "outputId": "1147857a-75eb-46ec-df1a-be91dbb6f14a"
   },
   "outputs": [],
   "source": [
    "# TensorFlow 변수들(variables) 초기화 (Initialization)\n",
    "sess.run(tf.global_variables_initializer())"
   ]
  },
  {
   "cell_type": "code",
   "execution_count": 16,
   "metadata": {
    "scrolled": true
   },
   "outputs": [
    {
     "name": "stdout",
     "output_type": "stream",
     "text": [
      "step=0 / cost=0.000491329759825021\n",
      "step=1000 / cost=0.00048245128709822893\n",
      "step=2000 / cost=0.0004738625430036336\n",
      "step=3000 / cost=0.0004657003446482122\n",
      "step=4000 / cost=0.0004576980718411505\n",
      "step=5000 / cost=0.0004499468195717782\n",
      "step=6000 / cost=0.000442563061369583\n",
      "step=7000 / cost=0.00043540989281609654\n",
      "step=8000 / cost=0.0004283722664695233\n",
      "step=9000 / cost=0.0004215531225781888\n",
      "step=10000 / cost=0.0004150472523178905\n"
     ]
    }
   ],
   "source": [
    "for i in range(10001):\n",
    "    sess.run(train, feed_dict={X: x_data, Y: y_data})\n",
    "\n",
    "    if i % 1000 ==0:\n",
    "        c1 = sess.run(cost, feed_dict={X: x_data, Y: y_data})\n",
    "        print('step={} / cost={}'.format(i, c1))"
   ]
  },
  {
   "cell_type": "markdown",
   "metadata": {},
   "source": [
    "### 결과 확인하기"
   ]
  },
  {
   "cell_type": "code",
   "execution_count": 15,
   "metadata": {},
   "outputs": [
    {
     "name": "stdout",
     "output_type": "stream",
     "text": [
      "0 [[0.02057364]]\n",
      "1 [[0.97892445]]\n",
      "2 [[0.97892076]]\n",
      "3 [[0.02556489]]\n"
     ]
    }
   ],
   "source": [
    "for i in range(4):\n",
    "    x1 = x_data[[i], :]\n",
    "\n",
    "    l1 = tf.sigmoid(tf.matmul(x1, W1) + b1)\n",
    "    l2 = tf.sigmoid(tf.matmul(l1, W2) + b2)\n",
    "    #l2cast = tf.cast(l2 > 0.5, dtype=tf.float32)\n",
    "    print( i, sess.run(l2)) #값이 0,1,1,0이 되야 정답임\n",
    "    #print( i, sess.run(l2), sess.run(l2cast), y_data[[i], :])   "
   ]
  },
  {
   "cell_type": "markdown",
   "metadata": {},
   "source": [
    "* HW : 위의 코드를 변형하여 XOR 학습시 얻어진 Cost 그래프를 그리시오. Hint : List 사용\n",
    "**이 그래프는 TF04_1처럼"
   ]
  },
  {
   "cell_type": "markdown",
   "metadata": {},
   "source": [
    "### 참고 : Sigmoid"
   ]
  },
  {
   "cell_type": "code",
   "execution_count": 34,
   "metadata": {
    "colab": {
     "autoexec": {
      "startup": false,
      "wait_interval": 0
     }
    },
    "colab_type": "code",
    "id": "YFKOTPa9Dh3-"
   },
   "outputs": [
    {
     "name": "stdout",
     "output_type": "stream",
     "text": [
      "0.0 --> 0.5\n"
     ]
    }
   ],
   "source": [
    "y1 = 0.0\n",
    "y2 = sess.run(tf.sigmoid(y1))\n",
    "print('{} --> {}'.format(y1, y2))\n",
    "#Sigmoid란 출력에 제한을 거는??.. 0이상이자 1을 안 넘도록 (S 커브) #시그모이드 값을 구해봐라 하는 게 항상 시험문제로 출제"
   ]
  },
  {
   "cell_type": "markdown",
   "metadata": {},
   "source": [
    "Sigmoid를 그려볼까요?"
   ]
  },
  {
   "cell_type": "code",
   "execution_count": 35,
   "metadata": {},
   "outputs": [
    {
     "name": "stdout",
     "output_type": "stream",
     "text": [
      "[-10.   -9.5  -9.   -8.5  -8.   -7.5  -7.   -6.5  -6.   -5.5  -5.   -4.5\n",
      "  -4.   -3.5  -3.   -2.5  -2.   -1.5  -1.   -0.5   0.    0.5   1.    1.5\n",
      "   2.    2.5   3.    3.5   4.    4.5   5.    5.5   6.    6.5   7.    7.5\n",
      "   8.    8.5   9.    9.5]\n"
     ]
    }
   ],
   "source": [
    "x1 = np.arange(-10,10, 0.5)\n",
    "print(x1)"
   ]
  },
  {
   "cell_type": "code",
   "execution_count": 37,
   "metadata": {},
   "outputs": [
    {
     "name": "stdout",
     "output_type": "stream",
     "text": [
      "-10.0 --> 4.5397868702434395e-05\n",
      "-9.5 --> 7.484622751061123e-05\n",
      "-9.0 --> 0.00012339457598623172\n",
      "-8.5 --> 0.00020342697805520653\n",
      "-8.0 --> 0.0003353501304664781\n",
      "-7.5 --> 0.0005527786369235996\n",
      "-7.0 --> 0.0009110511944006454\n",
      "-6.5 --> 0.0015011822567369917\n",
      "-6.0 --> 0.0024726231566347743\n",
      "-5.5 --> 0.004070137715896128\n",
      "-5.0 --> 0.0066928509242848554\n",
      "-4.5 --> 0.01098694263059318\n",
      "-4.0 --> 0.01798620996209156\n",
      "-3.5 --> 0.02931223075135632\n",
      "-3.0 --> 0.04742587317756678\n",
      "-2.5 --> 0.07585818002124355\n",
      "-2.0 --> 0.11920292202211755\n",
      "-1.5 --> 0.18242552380635635\n",
      "-1.0 --> 0.2689414213699951\n",
      "-0.5 --> 0.3775406687981454\n",
      "0.0 --> 0.5\n",
      "0.5 --> 0.6224593312018546\n",
      "1.0 --> 0.7310585786300049\n",
      "1.5 --> 0.8175744761936437\n",
      "2.0 --> 0.8807970779778823\n",
      "2.5 --> 0.9241418199787566\n",
      "3.0 --> 0.9525741268224334\n",
      "3.5 --> 0.9706877692486436\n",
      "4.0 --> 0.9820137900379085\n",
      "4.5 --> 0.9890130573694068\n",
      "5.0 --> 0.9933071490757153\n",
      "5.5 --> 0.995929862284104\n",
      "6.0 --> 0.9975273768433653\n",
      "6.5 --> 0.998498817743263\n",
      "7.0 --> 0.9990889488055994\n",
      "7.5 --> 0.9994472213630764\n",
      "8.0 --> 0.9996646498695336\n",
      "8.5 --> 0.9997965730219448\n",
      "9.0 --> 0.9998766054240137\n",
      "9.5 --> 0.9999251537724895\n"
     ]
    }
   ],
   "source": [
    "for i in range(len(x1)):\n",
    "    y1 = x1[i]\n",
    "    y2 = sess.run(tf.sigmoid(y1))\n",
    "    print('{} --> {}'.format(y1, y2))\n",
    "#그려오면 좋다."
   ]
  },
  {
   "cell_type": "code",
   "execution_count": null,
   "metadata": {},
   "outputs": [],
   "source": []
  },
  {
   "cell_type": "code",
   "execution_count": null,
   "metadata": {},
   "outputs": [],
   "source": []
  }
 ],
 "metadata": {
  "colab": {
   "collapsed_sections": [],
   "default_view": {},
   "name": "TF03-1-XOR.ipynb",
   "provenance": [],
   "version": "0.3.2",
   "views": {}
  },
  "kernelspec": {
   "display_name": "Python 3",
   "language": "python",
   "name": "python3"
  },
  "language_info": {
   "codemirror_mode": {
    "name": "ipython",
    "version": 3
   },
   "file_extension": ".py",
   "mimetype": "text/x-python",
   "name": "python",
   "nbconvert_exporter": "python",
   "pygments_lexer": "ipython3",
   "version": "3.5.3"
  }
 },
 "nbformat": 4,
 "nbformat_minor": 1
}
